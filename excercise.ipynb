{
 "cells": [
  {
   "cell_type": "code",
   "execution_count": 196,
   "metadata": {},
   "outputs": [],
   "source": [
    "# import libraries \n",
    "\n",
    "import pandas as pd \n",
    "import numpy as np \n",
    "import category_encoders as ce\n",
    "import seaborn as sns\n"
   ]
  },
  {
   "cell_type": "markdown",
   "metadata": {},
   "source": [
    "Exercise: Using the data in scout_data, build a model to predict a product tier(Classification) and a model to predict the number of detail views.(Regression)"
   ]
  },
  {
   "cell_type": "code",
   "execution_count": 197,
   "metadata": {},
   "outputs": [
    {
     "data": {
      "text/html": [
       "<div>\n",
       "<style scoped>\n",
       "    .dataframe tbody tr th:only-of-type {\n",
       "        vertical-align: middle;\n",
       "    }\n",
       "\n",
       "    .dataframe tbody tr th {\n",
       "        vertical-align: top;\n",
       "    }\n",
       "\n",
       "    .dataframe thead th {\n",
       "        text-align: right;\n",
       "    }\n",
       "</style>\n",
       "<table border=\"1\" class=\"dataframe\">\n",
       "  <thead>\n",
       "    <tr style=\"text-align: right;\">\n",
       "      <th></th>\n",
       "      <th>article_id</th>\n",
       "      <th>product_tier</th>\n",
       "      <th>make_name</th>\n",
       "      <th>price</th>\n",
       "      <th>first_zip_digit</th>\n",
       "      <th>first_registration_year</th>\n",
       "      <th>created_date</th>\n",
       "      <th>deleted_date</th>\n",
       "      <th>search_views</th>\n",
       "      <th>detail_views</th>\n",
       "      <th>stock_days</th>\n",
       "      <th>ctr</th>\n",
       "    </tr>\n",
       "  </thead>\n",
       "  <tbody>\n",
       "    <tr>\n",
       "      <th>0</th>\n",
       "      <td>350625839</td>\n",
       "      <td>Basic</td>\n",
       "      <td>Mitsubishi</td>\n",
       "      <td>16750</td>\n",
       "      <td>5</td>\n",
       "      <td>2013</td>\n",
       "      <td>24.07.18</td>\n",
       "      <td>24.08.18</td>\n",
       "      <td>3091.0</td>\n",
       "      <td>123.0</td>\n",
       "      <td>30</td>\n",
       "      <td>0.03780329990294403</td>\n",
       "    </tr>\n",
       "    <tr>\n",
       "      <th>1</th>\n",
       "      <td>354412280</td>\n",
       "      <td>Basic</td>\n",
       "      <td>Mercedes-Benz</td>\n",
       "      <td>35950</td>\n",
       "      <td>4</td>\n",
       "      <td>2015</td>\n",
       "      <td>16.08.18</td>\n",
       "      <td>07.10.18</td>\n",
       "      <td>3283.0</td>\n",
       "      <td>223.0</td>\n",
       "      <td>52</td>\n",
       "      <td>0.06792567773378008</td>\n",
       "    </tr>\n",
       "    <tr>\n",
       "      <th>2</th>\n",
       "      <td>349572992</td>\n",
       "      <td>Basic</td>\n",
       "      <td>Mercedes-Benz</td>\n",
       "      <td>11950</td>\n",
       "      <td>3</td>\n",
       "      <td>1998</td>\n",
       "      <td>16.07.18</td>\n",
       "      <td>05.09.18</td>\n",
       "      <td>3247.0</td>\n",
       "      <td>265.0</td>\n",
       "      <td>51</td>\n",
       "      <td>0.0816137973514013</td>\n",
       "    </tr>\n",
       "    <tr>\n",
       "      <th>3</th>\n",
       "      <td>350266763</td>\n",
       "      <td>Basic</td>\n",
       "      <td>Ford</td>\n",
       "      <td>1750</td>\n",
       "      <td>6</td>\n",
       "      <td>2003</td>\n",
       "      <td>20.07.18</td>\n",
       "      <td>29.10.18</td>\n",
       "      <td>1856.0</td>\n",
       "      <td>26.0</td>\n",
       "      <td>101</td>\n",
       "      <td>0.014008620689655173</td>\n",
       "    </tr>\n",
       "    <tr>\n",
       "      <th>4</th>\n",
       "      <td>355688985</td>\n",
       "      <td>Basic</td>\n",
       "      <td>Mercedes-Benz</td>\n",
       "      <td>26500</td>\n",
       "      <td>3</td>\n",
       "      <td>2014</td>\n",
       "      <td>28.08.18</td>\n",
       "      <td>08.09.18</td>\n",
       "      <td>490.0</td>\n",
       "      <td>20.0</td>\n",
       "      <td>12</td>\n",
       "      <td>0.04081632653061224</td>\n",
       "    </tr>\n",
       "    <tr>\n",
       "      <th>...</th>\n",
       "      <td>...</td>\n",
       "      <td>...</td>\n",
       "      <td>...</td>\n",
       "      <td>...</td>\n",
       "      <td>...</td>\n",
       "      <td>...</td>\n",
       "      <td>...</td>\n",
       "      <td>...</td>\n",
       "      <td>...</td>\n",
       "      <td>...</td>\n",
       "      <td>...</td>\n",
       "      <td>...</td>\n",
       "    </tr>\n",
       "    <tr>\n",
       "      <th>78316</th>\n",
       "      <td>348704581</td>\n",
       "      <td>Basic</td>\n",
       "      <td>Lexus</td>\n",
       "      <td>15740</td>\n",
       "      <td>8</td>\n",
       "      <td>2014</td>\n",
       "      <td>12.07.18</td>\n",
       "      <td>19.10.18</td>\n",
       "      <td>6895.0</td>\n",
       "      <td>230.0</td>\n",
       "      <td>99</td>\n",
       "      <td>0.03335750543872371</td>\n",
       "    </tr>\n",
       "    <tr>\n",
       "      <th>78317</th>\n",
       "      <td>359231940</td>\n",
       "      <td>Basic</td>\n",
       "      <td>Hyundai</td>\n",
       "      <td>2950</td>\n",
       "      <td>6</td>\n",
       "      <td>2006</td>\n",
       "      <td>28.09.18</td>\n",
       "      <td>23.10.18</td>\n",
       "      <td>1175.0</td>\n",
       "      <td>16.0</td>\n",
       "      <td>25</td>\n",
       "      <td>0.012936170212765956</td>\n",
       "    </tr>\n",
       "    <tr>\n",
       "      <th>78318</th>\n",
       "      <td>362425932</td>\n",
       "      <td>Basic</td>\n",
       "      <td>Volkswagen</td>\n",
       "      <td>7850</td>\n",
       "      <td>8</td>\n",
       "      <td>2014</td>\n",
       "      <td>04.11.18</td>\n",
       "      <td>21.11.18</td>\n",
       "      <td>448.0</td>\n",
       "      <td>21.0</td>\n",
       "      <td>16</td>\n",
       "      <td>0.046875</td>\n",
       "    </tr>\n",
       "    <tr>\n",
       "      <th>78319</th>\n",
       "      <td>357164227</td>\n",
       "      <td>Basic</td>\n",
       "      <td>Toyota</td>\n",
       "      <td>13945</td>\n",
       "      <td>5</td>\n",
       "      <td>2011</td>\n",
       "      <td>04.09.18</td>\n",
       "      <td>02.10.18</td>\n",
       "      <td>1617.0</td>\n",
       "      <td>29.0</td>\n",
       "      <td>28</td>\n",
       "      <td>0.017934446505875078</td>\n",
       "    </tr>\n",
       "    <tr>\n",
       "      <th>78320</th>\n",
       "      <td>353639932</td>\n",
       "      <td>Basic</td>\n",
       "      <td>Volkswagen</td>\n",
       "      <td>38800</td>\n",
       "      <td>7</td>\n",
       "      <td>2018</td>\n",
       "      <td>08.08.18</td>\n",
       "      <td>09.08.18</td>\n",
       "      <td>55.0</td>\n",
       "      <td>2.0</td>\n",
       "      <td>1</td>\n",
       "      <td>0.03454545454545454</td>\n",
       "    </tr>\n",
       "  </tbody>\n",
       "</table>\n",
       "<p>78321 rows × 12 columns</p>\n",
       "</div>"
      ],
      "text/plain": [
       "       article_id product_tier      make_name  price  first_zip_digit  \\\n",
       "0       350625839        Basic     Mitsubishi  16750                5   \n",
       "1       354412280        Basic  Mercedes-Benz  35950                4   \n",
       "2       349572992        Basic  Mercedes-Benz  11950                3   \n",
       "3       350266763        Basic           Ford   1750                6   \n",
       "4       355688985        Basic  Mercedes-Benz  26500                3   \n",
       "...           ...          ...            ...    ...              ...   \n",
       "78316   348704581        Basic          Lexus  15740                8   \n",
       "78317   359231940        Basic        Hyundai   2950                6   \n",
       "78318   362425932        Basic     Volkswagen   7850                8   \n",
       "78319   357164227        Basic         Toyota  13945                5   \n",
       "78320   353639932        Basic     Volkswagen  38800                7   \n",
       "\n",
       "       first_registration_year created_date deleted_date  search_views  \\\n",
       "0                         2013     24.07.18     24.08.18        3091.0   \n",
       "1                         2015     16.08.18     07.10.18        3283.0   \n",
       "2                         1998     16.07.18     05.09.18        3247.0   \n",
       "3                         2003     20.07.18     29.10.18        1856.0   \n",
       "4                         2014     28.08.18     08.09.18         490.0   \n",
       "...                        ...          ...          ...           ...   \n",
       "78316                     2014     12.07.18     19.10.18        6895.0   \n",
       "78317                     2006     28.09.18     23.10.18        1175.0   \n",
       "78318                     2014     04.11.18     21.11.18         448.0   \n",
       "78319                     2011     04.09.18     02.10.18        1617.0   \n",
       "78320                     2018     08.08.18     09.08.18          55.0   \n",
       "\n",
       "       detail_views  stock_days                   ctr  \n",
       "0             123.0          30   0.03780329990294403  \n",
       "1             223.0          52   0.06792567773378008  \n",
       "2             265.0          51    0.0816137973514013  \n",
       "3              26.0         101  0.014008620689655173  \n",
       "4              20.0          12   0.04081632653061224  \n",
       "...             ...         ...                   ...  \n",
       "78316         230.0          99   0.03335750543872371  \n",
       "78317          16.0          25  0.012936170212765956  \n",
       "78318          21.0          16              0.046875  \n",
       "78319          29.0          28  0.017934446505875078  \n",
       "78320           2.0           1   0.03454545454545454  \n",
       "\n",
       "[78321 rows x 12 columns]"
      ]
     },
     "execution_count": 197,
     "metadata": {},
     "output_type": "execute_result"
    }
   ],
   "source": [
    "# load data \n",
    "\n",
    "\n",
    "df = pd.read_csv('./data/scout_data/Case_Study_Data.csv', delimiter=';')    \n",
    "df"
   ]
  },
  {
   "cell_type": "markdown",
   "metadata": {},
   "source": [
    "# Data Xplore and data cleaning \n"
   ]
  },
  {
   "cell_type": "code",
   "execution_count": 198,
   "metadata": {},
   "outputs": [
    {
     "data": {
      "text/html": [
       "<div>\n",
       "<style scoped>\n",
       "    .dataframe tbody tr th:only-of-type {\n",
       "        vertical-align: middle;\n",
       "    }\n",
       "\n",
       "    .dataframe tbody tr th {\n",
       "        vertical-align: top;\n",
       "    }\n",
       "\n",
       "    .dataframe thead th {\n",
       "        text-align: right;\n",
       "    }\n",
       "</style>\n",
       "<table border=\"1\" class=\"dataframe\">\n",
       "  <thead>\n",
       "    <tr style=\"text-align: right;\">\n",
       "      <th></th>\n",
       "      <th>article_id</th>\n",
       "      <th>price</th>\n",
       "      <th>first_zip_digit</th>\n",
       "      <th>first_registration_year</th>\n",
       "      <th>search_views</th>\n",
       "      <th>detail_views</th>\n",
       "      <th>stock_days</th>\n",
       "    </tr>\n",
       "  </thead>\n",
       "  <tbody>\n",
       "    <tr>\n",
       "      <th>count</th>\n",
       "      <td>7.832100e+04</td>\n",
       "      <td>78321.000000</td>\n",
       "      <td>78321.000000</td>\n",
       "      <td>78321.000000</td>\n",
       "      <td>78311.000000</td>\n",
       "      <td>78311.000000</td>\n",
       "      <td>78321.000000</td>\n",
       "    </tr>\n",
       "    <tr>\n",
       "      <th>mean</th>\n",
       "      <td>3.574869e+08</td>\n",
       "      <td>15067.655316</td>\n",
       "      <td>4.632117</td>\n",
       "      <td>2011.089465</td>\n",
       "      <td>2297.502522</td>\n",
       "      <td>93.469870</td>\n",
       "      <td>35.986262</td>\n",
       "    </tr>\n",
       "    <tr>\n",
       "      <th>std</th>\n",
       "      <td>5.076572e+06</td>\n",
       "      <td>16374.497606</td>\n",
       "      <td>2.354275</td>\n",
       "      <td>6.538395</td>\n",
       "      <td>6339.034423</td>\n",
       "      <td>228.025588</td>\n",
       "      <td>32.214835</td>\n",
       "    </tr>\n",
       "    <tr>\n",
       "      <th>min</th>\n",
       "      <td>3.472324e+08</td>\n",
       "      <td>1.000000</td>\n",
       "      <td>1.000000</td>\n",
       "      <td>1924.000000</td>\n",
       "      <td>0.000000</td>\n",
       "      <td>0.000000</td>\n",
       "      <td>-3.000000</td>\n",
       "    </tr>\n",
       "    <tr>\n",
       "      <th>25%</th>\n",
       "      <td>3.536387e+08</td>\n",
       "      <td>5750.000000</td>\n",
       "      <td>3.000000</td>\n",
       "      <td>2008.000000</td>\n",
       "      <td>367.000000</td>\n",
       "      <td>13.000000</td>\n",
       "      <td>10.000000</td>\n",
       "    </tr>\n",
       "    <tr>\n",
       "      <th>50%</th>\n",
       "      <td>3.585480e+08</td>\n",
       "      <td>10900.000000</td>\n",
       "      <td>5.000000</td>\n",
       "      <td>2013.000000</td>\n",
       "      <td>920.000000</td>\n",
       "      <td>36.000000</td>\n",
       "      <td>25.000000</td>\n",
       "    </tr>\n",
       "    <tr>\n",
       "      <th>75%</th>\n",
       "      <td>3.614817e+08</td>\n",
       "      <td>18890.000000</td>\n",
       "      <td>7.000000</td>\n",
       "      <td>2015.000000</td>\n",
       "      <td>2234.000000</td>\n",
       "      <td>94.000000</td>\n",
       "      <td>55.000000</td>\n",
       "    </tr>\n",
       "    <tr>\n",
       "      <th>max</th>\n",
       "      <td>3.647040e+08</td>\n",
       "      <td>249888.000000</td>\n",
       "      <td>9.000000</td>\n",
       "      <td>2106.000000</td>\n",
       "      <td>608754.000000</td>\n",
       "      <td>13926.000000</td>\n",
       "      <td>127.000000</td>\n",
       "    </tr>\n",
       "  </tbody>\n",
       "</table>\n",
       "</div>"
      ],
      "text/plain": [
       "         article_id          price  first_zip_digit  first_registration_year  \\\n",
       "count  7.832100e+04   78321.000000     78321.000000             78321.000000   \n",
       "mean   3.574869e+08   15067.655316         4.632117              2011.089465   \n",
       "std    5.076572e+06   16374.497606         2.354275                 6.538395   \n",
       "min    3.472324e+08       1.000000         1.000000              1924.000000   \n",
       "25%    3.536387e+08    5750.000000         3.000000              2008.000000   \n",
       "50%    3.585480e+08   10900.000000         5.000000              2013.000000   \n",
       "75%    3.614817e+08   18890.000000         7.000000              2015.000000   \n",
       "max    3.647040e+08  249888.000000         9.000000              2106.000000   \n",
       "\n",
       "        search_views  detail_views    stock_days  \n",
       "count   78311.000000  78311.000000  78321.000000  \n",
       "mean     2297.502522     93.469870     35.986262  \n",
       "std      6339.034423    228.025588     32.214835  \n",
       "min         0.000000      0.000000     -3.000000  \n",
       "25%       367.000000     13.000000     10.000000  \n",
       "50%       920.000000     36.000000     25.000000  \n",
       "75%      2234.000000     94.000000     55.000000  \n",
       "max    608754.000000  13926.000000    127.000000  "
      ]
     },
     "execution_count": 198,
     "metadata": {},
     "output_type": "execute_result"
    }
   ],
   "source": [
    "df.describe()"
   ]
  },
  {
   "cell_type": "code",
   "execution_count": 199,
   "metadata": {},
   "outputs": [
    {
     "data": {
      "text/plain": [
       "(78321, 12)"
      ]
     },
     "execution_count": 199,
     "metadata": {},
     "output_type": "execute_result"
    }
   ],
   "source": [
    "df.shape"
   ]
  },
  {
   "cell_type": "code",
   "execution_count": 200,
   "metadata": {},
   "outputs": [
    {
     "data": {
      "text/plain": [
       "article_id                  0\n",
       "product_tier                0\n",
       "make_name                   0\n",
       "price                       0\n",
       "first_zip_digit             0\n",
       "first_registration_year     0\n",
       "created_date                0\n",
       "deleted_date                0\n",
       "search_views               10\n",
       "detail_views               10\n",
       "stock_days                  0\n",
       "ctr                        24\n",
       "dtype: int64"
      ]
     },
     "execution_count": 200,
     "metadata": {},
     "output_type": "execute_result"
    }
   ],
   "source": [
    "df.isnull().sum()"
   ]
  },
  {
   "cell_type": "markdown",
   "metadata": {},
   "source": [
    "* column name;description\n",
    "* article_id;unique article identifier\n",
    "* product_tier;premium status of the article\n",
    "* make_name;name of the car manufacturer\n",
    "* price;price of the article\n",
    "* first_zip_digit;first digit of the zip code of the region the article is offered in\n",
    "* first_registration_year;year of the first registration of the article\n",
    "* created_date;creation date of the listing\n",
    "* deleted_date;deletion date of the listing\n",
    "* search_views;number of times the article has been shown as a search result\n",
    "* detail_views;number of times the article has been clicked on\n",
    "* stock_days;Time in days between the creation of the listing and the deletion of the listing\n",
    "* ctr;Click through rate calculated as the quotient of detail_views over search_views"
   ]
  },
  {
   "cell_type": "code",
   "execution_count": 201,
   "metadata": {},
   "outputs": [],
   "source": [
    "# not so many missing values, so we can drop them\n",
    "df.dropna(inplace=True)   "
   ]
  },
  {
   "cell_type": "code",
   "execution_count": 202,
   "metadata": {},
   "outputs": [
    {
     "data": {
      "text/plain": [
       "np.int64(0)"
      ]
     },
     "execution_count": 202,
     "metadata": {},
     "output_type": "execute_result"
    }
   ],
   "source": [
    "# no duplicates \n",
    "df.duplicated().sum()"
   ]
  },
  {
   "cell_type": "code",
   "execution_count": 203,
   "metadata": {},
   "outputs": [
    {
     "data": {
      "text/plain": [
       "article_id                   int64\n",
       "product_tier                object\n",
       "make_name                   object\n",
       "price                        int64\n",
       "first_zip_digit              int64\n",
       "first_registration_year      int64\n",
       "created_date                object\n",
       "deleted_date                object\n",
       "search_views               float64\n",
       "detail_views               float64\n",
       "stock_days                   int64\n",
       "ctr                         object\n",
       "dtype: object"
      ]
     },
     "execution_count": 203,
     "metadata": {},
     "output_type": "execute_result"
    }
   ],
   "source": [
    "# lets check the data types of the columns\n",
    "\n",
    "df.dtypes"
   ]
  },
  {
   "cell_type": "code",
   "execution_count": 204,
   "metadata": {},
   "outputs": [],
   "source": [
    "# build the ctr : \n",
    "\n",
    "df[\"Conversion Rate\"] = df[\"detail_views\"] / df[\"search_views\"] * 100"
   ]
  },
  {
   "cell_type": "markdown",
   "metadata": {},
   "source": [
    "There are several key points from the data . \n",
    "\n",
    "article id has probably no additional value , unless one knows what it means . \n",
    "\n",
    "nummerical data are : \n",
    "price, first registeration year , search views , detail views , stock days , ctr (this is how many times was the article clicked on when it was shown)\n",
    "\n",
    "and categorical data are : \n",
    "\n",
    "product tier , make name , first zip digit , \n",
    "\n",
    "date time data : this needs to be processed , maybe extract year and month of the created \n"
   ]
  },
  {
   "cell_type": "markdown",
   "metadata": {},
   "source": [
    "# start with a simple model : "
   ]
  },
  {
   "cell_type": "markdown",
   "metadata": {},
   "source": [
    "# select important columns"
   ]
  },
  {
   "cell_type": "code",
   "execution_count": 205,
   "metadata": {},
   "outputs": [],
   "source": [
    "nummerical_features = df.select_dtypes(include=[\"number\"])\n",
    "\n",
    "categorical_features = df.select_dtypes(include=[\"object\"])"
   ]
  },
  {
   "cell_type": "code",
   "execution_count": 206,
   "metadata": {},
   "outputs": [],
   "source": [
    "nummerical_features.drop(columns=['article_id','first_zip_digit'], inplace=True)"
   ]
  },
  {
   "cell_type": "code",
   "execution_count": 207,
   "metadata": {},
   "outputs": [],
   "source": [
    "nummerical_features  = nummerical_features.columns.tolist()"
   ]
  },
  {
   "cell_type": "code",
   "execution_count": 208,
   "metadata": {},
   "outputs": [],
   "source": [
    "categorical_features.drop(columns=['created_date',\"deleted_date\",\"ctr\"], inplace=True)\n"
   ]
  },
  {
   "cell_type": "code",
   "execution_count": 209,
   "metadata": {},
   "outputs": [],
   "source": [
    "categorical_features = categorical_features.columns.tolist()\n"
   ]
  },
  {
   "cell_type": "code",
   "execution_count": 210,
   "metadata": {},
   "outputs": [],
   "source": [
    "categorical_features.extend(['first_zip_digit'])"
   ]
  },
  {
   "cell_type": "code",
   "execution_count": 211,
   "metadata": {},
   "outputs": [
    {
     "data": {
      "text/plain": [
       "['price',\n",
       " 'first_registration_year',\n",
       " 'search_views',\n",
       " 'detail_views',\n",
       " 'stock_days',\n",
       " 'Conversion Rate']"
      ]
     },
     "execution_count": 211,
     "metadata": {},
     "output_type": "execute_result"
    }
   ],
   "source": [
    "nummerical_features"
   ]
  },
  {
   "cell_type": "code",
   "execution_count": 212,
   "metadata": {},
   "outputs": [
    {
     "name": "stdout",
     "output_type": "stream",
     "text": [
      "['product_tier', 'make_name', 'first_zip_digit']\n"
     ]
    }
   ],
   "source": [
    "print(categorical_features)"
   ]
  },
  {
   "cell_type": "code",
   "execution_count": 213,
   "metadata": {},
   "outputs": [
    {
     "name": "stdout",
     "output_type": "stream",
     "text": [
      "product_tier : 3 unique values\n",
      "make_name : 91 unique values\n",
      "first_zip_digit : 9 unique values\n"
     ]
    }
   ],
   "source": [
    "# lets check the unique values of the categorical features\n",
    "\n",
    "for col in categorical_features:\n",
    "    print(f'{col} : {df[col].nunique()} unique values')\n",
    "    "
   ]
  },
  {
   "cell_type": "code",
   "execution_count": null,
   "metadata": {},
   "outputs": [],
   "source": []
  },
  {
   "cell_type": "code",
   "execution_count": null,
   "metadata": {},
   "outputs": [],
   "source": []
  },
  {
   "cell_type": "code",
   "execution_count": 214,
   "metadata": {},
   "outputs": [],
   "source": [
    "# encoding the categorical features\n",
    "\n",
    "# product tier and is ordinal features, so we can use label encoding\n",
    "\n",
    "ce_ord = ce.OrdinalEncoder(cols=['product_tier'], return_df=True)\n",
    "\n",
    "df = ce_ord.fit_transform(df)\n",
    "\n",
    "\n",
    "\n",
    "\n",
    "# for make_name , its best to use baseN encoding since it has many unique values\n",
    "\n",
    "ce_baseN = ce.BaseNEncoder(cols=['make_name', 'first_zip_digit'], return_df=True , base  = 3)\n",
    "\n",
    "df = ce_baseN.fit_transform(df)\n",
    "\n"
   ]
  },
  {
   "cell_type": "code",
   "execution_count": 215,
   "metadata": {},
   "outputs": [
    {
     "data": {
      "text/plain": [
       "Index(['article_id', 'product_tier', 'make_name_0', 'make_name_1',\n",
       "       'make_name_2', 'make_name_3', 'make_name_4', 'price',\n",
       "       'first_zip_digit_0', 'first_zip_digit_1', 'first_zip_digit_2',\n",
       "       'first_registration_year', 'created_date', 'deleted_date',\n",
       "       'search_views', 'detail_views', 'stock_days', 'ctr', 'Conversion Rate'],\n",
       "      dtype='object')"
      ]
     },
     "execution_count": 215,
     "metadata": {},
     "output_type": "execute_result"
    }
   ],
   "source": [
    "df.columns"
   ]
  },
  {
   "cell_type": "code",
   "execution_count": 216,
   "metadata": {},
   "outputs": [
    {
     "data": {
      "text/plain": [
       "<Axes: >"
      ]
     },
     "execution_count": 216,
     "metadata": {},
     "output_type": "execute_result"
    },
    {
     "data": {
      "image/png": "[encoded data removed]",
      "text/plain": [
       "<Figure size 640x480 with 2 Axes>"
      ]
     },
     "metadata": {},
     "output_type": "display_data"
    }
   ],
   "source": [
    "# lets check the correlation between the nummerical features and plot it \n",
    "\n",
    "sns.heatmap(df[nummerical_features].corr(), annot=True)"
   ]
  },
  {
   "cell_type": "code",
   "execution_count": 217,
   "metadata": {},
   "outputs": [],
   "source": [
    "# between detail views and search views, there is a strong correlation, so we can drop one of them\n",
    "# but bare in mind that the regression objective is to find detail views , so we can keep search views \n"
   ]
  },
  {
   "cell_type": "code",
   "execution_count": 193,
   "metadata": {},
   "outputs": [
    {
     "data": {
      "text/plain": [
       "['article_id',\n",
       " 'product_tier',\n",
       " 'make_name_0',\n",
       " 'make_name_1',\n",
       " 'make_name_2',\n",
       " 'make_name_3',\n",
       " 'make_name_4',\n",
       " 'price',\n",
       " 'first_zip_digit_0',\n",
       " 'first_zip_digit_1',\n",
       " 'first_zip_digit_2',\n",
       " 'first_registration_year',\n",
       " 'created_date',\n",
       " 'deleted_date',\n",
       " 'search_views',\n",
       " 'detail_views',\n",
       " 'stock_days',\n",
       " 'ctr',\n",
       " 'Conversion Rate']"
      ]
     },
     "execution_count": 193,
     "metadata": {},
     "output_type": "execute_result"
    }
   ],
   "source": [
    "df.columns.tolist()"
   ]
  },
  {
   "cell_type": "code",
   "execution_count": 218,
   "metadata": {},
   "outputs": [
    {
     "data": {
      "text/plain": [
       "product_tier         0.031337\n",
       "first_zip_digit_2    0.002507\n",
       "make_name_3          0.002427\n",
       "make_name_4          0.002086\n",
       "make_name_1          0.001721\n",
       "first_zip_digit_1    0.001698\n",
       "make_name_0          0.000000\n",
       "make_name_2          0.000000\n",
       "first_zip_digit_0    0.000000\n",
       "dtype: float64"
      ]
     },
     "execution_count": 218,
     "metadata": {},
     "output_type": "execute_result"
    }
   ],
   "source": [
    "# there is no strong correlation between the features\n",
    "# letst check the importance of the categorical features using mutual information\n",
    "\n",
    "from sklearn.feature_selection import mutual_info_regression\n",
    "\n",
    "encoded_categorical_features = ['product_tier',\n",
    " 'make_name_0',\n",
    " 'make_name_1',\n",
    " 'make_name_2',\n",
    " 'make_name_3',\n",
    " 'make_name_4','first_zip_digit_0',\n",
    " 'first_zip_digit_1',\n",
    " 'first_zip_digit_2',]\n",
    "\n",
    "X = df[encoded_categorical_features]\n",
    "y = df['detail_views']\n",
    "\n",
    "mi = mutual_info_regression(X, y)\n",
    "\n",
    "# now print the importance of the features\n",
    "\n",
    "mi = pd.Series(mi)\n",
    "mi.index = X.columns\n",
    "mi.sort_values(ascending=False)\n",
    "\n",
    "\n"
   ]
  },
  {
   "cell_type": "markdown",
   "metadata": {},
   "source": [
    "# lets train a model now for classification problem : \n"
   ]
  },
  {
   "cell_type": "code",
   "execution_count": null,
   "metadata": {},
   "outputs": [],
   "source": []
  },
  {
   "cell_type": "code",
   "execution_count": 221,
   "metadata": {},
   "outputs": [
    {
     "name": "stdout",
     "output_type": "stream",
     "text": [
      "0.962925522908238\n",
      "0.9706257982120051\n"
     ]
    }
   ],
   "source": [
    "# the tearget in classification problem is to predict the product tier, so we can drop the detail views and keep the search views\n",
    "\n",
    "X = df[encoded_categorical_features + nummerical_features].drop(\"product_tier\", axis=1)\n",
    "y = df['product_tier']\n",
    "\n",
    "# lets split the data into train and test sets\n",
    "\n",
    "from sklearn.model_selection import train_test_split\n",
    "\n",
    "X_train, X_test, y_train, y_test = train_test_split(X, y, test_size=0.2, random_state=42)\n",
    "\n",
    "# lets use random forrest classifier to predict the product tier\n",
    "\n",
    "from sklearn.ensemble import RandomForestClassifier\n",
    "\n",
    "rf = RandomForestClassifier()\n",
    "\n",
    "rf.fit(X_train, y_train)\n",
    "\n",
    "y_pred = rf.predict(X_test)\n",
    "\n",
    "from sklearn.metrics import accuracy_score\n",
    "\n",
    "# f1 score \n",
    "\n",
    "from sklearn.metrics import f1_score\n",
    "\n",
    "print(f1_score(y_test, y_pred, average='weighted'))\n",
    "\n",
    "# print accuracy\n",
    "\n",
    "print(accuracy_score(y_test, y_pred))\n",
    "\n",
    "\n",
    "# lets check other metricsof the model\n",
    "\n",
    "from sklearn.metrics import classification_report\n",
    "\n",
    "#print(classification_report(y_test, y_pred))\n",
    "\n",
    "# lets check the importance of the features\n",
    "\n",
    "\n"
   ]
  },
  {
   "cell_type": "code",
   "execution_count": 229,
   "metadata": {},
   "outputs": [
    {
     "name": "stdout",
     "output_type": "stream",
     "text": [
      "1.8677892720306515\n",
      "0.9088831718060483\n"
     ]
    }
   ],
   "source": [
    "# lets do the regression to predict the detail views\n",
    "\n",
    "X = df[encoded_categorical_features + nummerical_features].drop(\"detail_views\", axis=1)\n",
    "y = df['detail_views']\n",
    "\n",
    "X_train, X_test, y_train, y_test = train_test_split(X, y, test_size=0.2, random_state=42)\n",
    "\n",
    "# use reandom forrest regressor\n",
    "\n",
    "from sklearn.ensemble import RandomForestRegressor\n",
    "\n",
    "rf = RandomForestRegressor()\n",
    "\n",
    "rf.fit(X_train, y_train)\n",
    "\n",
    "y_pred = rf.predict(X_test)\n",
    "\n",
    "# what is the mean absolute error\n",
    "\n",
    "from sklearn.metrics import mean_absolute_error\n",
    "\n",
    "print(mean_absolute_error(y_test, y_pred))\n",
    "\n",
    "# also check the r2 score \n",
    "\n",
    "from sklearn.metrics import r2_score\n",
    "\n",
    "print(r2_score(y_test, y_pred))\n",
    "\n"
   ]
  },
  {
   "cell_type": "code",
   "execution_count": 231,
   "metadata": {},
   "outputs": [
    {
     "name": "stdout",
     "output_type": "stream",
     "text": [
      "36.85813983514158\n",
      "0.7589824640122811\n"
     ]
    }
   ],
   "source": [
    "# lets use linear regression to predict the detail views    \n",
    "\n",
    "from sklearn.linear_model import LinearRegression\n",
    "\n",
    "\n",
    "lr = LinearRegression()\n",
    "\n",
    "lr.fit(X_train, y_train)\n",
    "\n",
    "y_pred = lr.predict(X_test)\n",
    "\n",
    "print(mean_absolute_error(y_test, y_pred))\n",
    "\n",
    "print(r2_score(y_test, y_pred))\n",
    "\n",
    "\n"
   ]
  },
  {
   "cell_type": "code",
   "execution_count": null,
   "metadata": {},
   "outputs": [],
   "source": [
    "# lets use less columns, \n",
    "# lets ommit make name \n",
    "\n",
    "X = X.drop(columns=['make_name_0','make_name_1','make_name_2','make_name_3','make_name_4'])\n"
   ]
  },
  {
   "cell_type": "code",
   "execution_count": 234,
   "metadata": {},
   "outputs": [
    {
     "name": "stdout",
     "output_type": "stream",
     "text": [
      "1.8721992337164752\n",
      "0.9062615863988803\n"
     ]
    }
   ],
   "source": [
    "\n",
    "\n",
    "X_train, X_test, y_train, y_test = train_test_split(X, y, test_size=0.2, random_state=42)\n",
    "\n",
    "# use reandom forrest regressor\n",
    "\n",
    "from sklearn.ensemble import RandomForestRegressor\n",
    "\n",
    "rf = RandomForestRegressor()\n",
    "\n",
    "rf.fit(X_train, y_train)\n",
    "\n",
    "y_pred = rf.predict(X_test)\n",
    "\n",
    "# what is the mean absolute error\n",
    "\n",
    "from sklearn.metrics import mean_absolute_error\n",
    "\n",
    "print(mean_absolute_error(y_test, y_pred))\n",
    "\n",
    "# also check the r2 score \n",
    "\n",
    "from sklearn.metrics import r2_score\n",
    "\n",
    "print(r2_score(y_test, y_pred))\n",
    "\n"
   ]
  },
  {
   "cell_type": "code",
   "execution_count": 224,
   "metadata": {},
   "outputs": [
    {
     "data": {
      "text/plain": [
       "0        123.0\n",
       "1        223.0\n",
       "2        265.0\n",
       "3         26.0\n",
       "4         20.0\n",
       "         ...  \n",
       "78316    230.0\n",
       "78317     16.0\n",
       "78318     21.0\n",
       "78319     29.0\n",
       "78320      2.0\n",
       "Name: detail_views, Length: 78297, dtype: float64"
      ]
     },
     "execution_count": 224,
     "metadata": {},
     "output_type": "execute_result"
    }
   ],
   "source": [
    "y"
   ]
  },
  {
   "cell_type": "markdown",
   "metadata": {},
   "source": []
  }
 ],
 "metadata": {
  "kernelspec": {
   "display_name": "DS_fund",
   "language": "python",
   "name": "python3"
  },
  "language_info": {
   "codemirror_mode": {
    "name": "ipython",
    "version": 3
   },
   "file_extension": ".py",
   "mimetype": "text/x-python",
   "name": "python",
   "nbconvert_exporter": "python",
   "pygments_lexer": "ipython3",
   "version": "3.12.8"
  }
 },
 "nbformat": 4,
 "nbformat_minor": 2
}
